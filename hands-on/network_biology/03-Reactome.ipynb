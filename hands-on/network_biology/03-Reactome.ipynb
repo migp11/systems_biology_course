{
 "cells": [
  {
   "cell_type": "code",
   "execution_count": 8,
   "id": "733ebedd-038b-4404-8503-7c2244d68363",
   "metadata": {},
   "outputs": [],
   "source": [
    "import os\n",
    "import pandas as pd\n",
    "import networkx as nx\n",
    "from collections import Counter"
   ]
  },
  {
   "cell_type": "code",
   "execution_count": 2,
   "id": "410aa157-69d8-4f35-bcda-881edd616c98",
   "metadata": {},
   "outputs": [],
   "source": [
    "fname_in = \"data/reactome.homo_sapiens.interactions.tab-delimited.txt\"\n",
    "fname_out = \"data/reactome.homo_sapiens.ppi.striped.tsv\"\n",
    "fname_processed_tab = \"data/reactome.homo_sapiens.ppi.processed.tsv\"\n",
    "\n",
    "\n",
    "# remove # from the first line of the file is it has not been already done.\n",
    "with open(fname_in, 'r') as file:\n",
    "    lines = file.readlines()\n",
    "    if lines[0][0] == \"#\":\n",
    "        # update_file = True\n",
    "        lines[0] = lines[0][1:].lstrip()  # Remove the first character from the first line\n",
    "        with open(fname_out, 'w') as file:\n",
    "            file.writelines(lines)\n"
   ]
  },
  {
   "cell_type": "code",
   "execution_count": 12,
   "id": "643df0d7-dc30-4490-8424-ec99342c21ad",
   "metadata": {},
   "outputs": [
    {
     "name": "stdout",
     "output_type": "stream",
     "text": [
      "Original table size (107634, 9)\n",
      "Total proteins: 5788\n",
      "Processed table size (25601, 1)\n"
     ]
    }
   ],
   "source": [
    "# Reading stripped table\n",
    "df = pd.read_csv(fname_out, sep='\\t')\n",
    "print(f\"Original table size\", df.shape)\n",
    "\n",
    "rename_dict = {\n",
    "        \"Interactor 1 uniprot id\": \"protein_A_id\",\n",
    "        \"Interactor 2 uniprot id\": \"protein_B_id\",\n",
    "        \"Interaction type\": \"type\",\n",
    "        \"Interaction context\": \"context\",\n",
    "        \"Pubmed references\": \"references\"\n",
    "    }\n",
    "    \n",
    "df = df.rename(rename_dict, axis=1)\n",
    "\n",
    "mask = df[\"protein_A_id\"].str.contains('uniprot') & df[\"protein_B_id\"].str.contains('uniprot')\n",
    "df = df[mask]\n",
    "\n",
    "cols = ['protein_A_id', 'protein_B_id', 'type']\n",
    "df = df[cols]\n",
    "\n",
    "df = df.drop_duplicates()\n",
    "\n",
    "protein_ids = df[\"protein_A_id\"].values.tolist() + df[\"protein_B_id\"].values.tolist()\n",
    "protein_ids = set(protein_ids)\n",
    "id_mapping = {i:i.split(\":\")[-1] for i in protein_ids}\n",
    "print(\"Total proteins:\", len(id_mapping))\n",
    "\n",
    "df['protein_A_id'] = df['protein_A_id'].replace(id_mapping)\n",
    "df['protein_B_id'] = df['protein_B_id'].replace(id_mapping)\n",
    "\n",
    "mask = df['protein_A_id'] != df['protein_B_id']\n",
    "df = df[mask]\n",
    "df = df.set_index(['protein_A_id', 'protein_B_id'])\n",
    "\n",
    "print(f\"Processed table size\", df.shape)"
   ]
  },
  {
   "cell_type": "code",
   "execution_count": 14,
   "id": "2c226f24-15c2-4de3-beb0-dfb8c3a58bf7",
   "metadata": {},
   "outputs": [
    {
     "name": "stdout",
     "output_type": "stream",
     "text": [
      "- Total proteins: 5151\n",
      "- Total interactions: 25601\n",
      "- Total interactions by type\n",
      "type\n",
      "physical association                                  21250\n",
      "enzymatic reaction                                     2982\n",
      "cleavage reaction                                       656\n",
      "dephosphorylation reaction                              346\n",
      "oxidoreductase activity electron transfer reaction      100\n",
      "acetylation reaction                                     75\n",
      "gtpase reaction                                          34\n",
      "phospholipase reaction                                   30\n",
      "nucleoside triphosphatase reaction                       28\n",
      "glycosylation reaction                                   26\n",
      "demethylation reaction                                   18\n",
      "deubiquitination reaction                                15\n",
      "deacetylation reaction                                   12\n",
      "carboxylation reaction                                    9\n",
      "amidation reaction                                        9\n",
      "deneddylation reaction                                    6\n",
      "sulfurtransfer reaction                                   2\n",
      "isomerase reaction                                        1\n",
      "de-ADP-ribosylation reaction                              1\n",
      "phosphopantetheinylation                                  1\n",
      "Name: count, dtype: int64\n"
     ]
    }
   ],
   "source": [
    "protein_ids = df.index.get_level_values(0).tolist()\n",
    "protein_ids += df.index.get_level_values(1).tolist()\n",
    "protein_ids = set(protein_ids)\n",
    "\n",
    "interactions = df.index.values\n",
    "\n",
    "print(f\"- Total proteins: {len(protein_ids)}\")\n",
    "print(f\"- Total interactions: {df.shape[0]}\")\n",
    "\n",
    "# Countintg the different type of interaction\n",
    "print(f\"- Total interactions by type\")\n",
    "print(df['type'].value_counts())"
   ]
  },
  {
   "cell_type": "code",
   "execution_count": 17,
   "id": "a287b8c7-2cf1-4441-a2c1-1f3743b83bb4",
   "metadata": {},
   "outputs": [],
   "source": [
    "G = nx.Graph()\n",
    "G.add_nodes_from(protein_ids)\n",
    "G.add_edges_from(interactions)\n",
    "\n",
    "fname = \"data/reactome.homo_sapiens.ppi.graphml\"\n",
    "nx.write_graphml(G, fname)"
   ]
  },
  {
   "cell_type": "code",
   "execution_count": 18,
   "id": "51048c83-6e14-421e-ac2a-f7a164500910",
   "metadata": {},
   "outputs": [
    {
     "name": "stdout",
     "output_type": "stream",
     "text": [
      "Distribution size for connected components:\n",
      "4109      1\n",
      "25        1\n",
      "15        1\n",
      "12        1\n",
      "11        5\n",
      "10        3\n",
      "9         3\n",
      "8         9\n",
      "7         9\n",
      "6         6\n",
      "5        14\n",
      "4        38\n",
      "3        63\n",
      "2       148\n",
      "Name: size, dtype: int64\n",
      "\n",
      "Size of the giagant component: nodes=4109, interactions/edges=19865\n"
     ]
    }
   ],
   "source": [
    "connected_components = sorted(nx.connected_components(G), key=len, reverse=True)\n",
    "\n",
    "print(\"Distribution size for connected components:\")\n",
    "s = pd.Series(Counter([len(i) for i in connected_components]), name=\"size\")\n",
    "print(s)\n",
    "\n",
    "giant_comp = G.subgraph(connected_components[0])\n",
    "print()\n",
    "print(f\"Size of the giagant component: nodes={len(giant_comp.nodes())}, interactions/edges={len(giant_comp.edges())}\")\n",
    "\n",
    "fname = \"data/reactome.homo_sapiens.ppi.giant_comp.graphml\"\n",
    "nx.write_graphml(giant_comp, fname)"
   ]
  },
  {
   "cell_type": "code",
   "execution_count": 24,
   "id": "9ec86947-0c4f-49bb-984b-9ca756e4b4f0",
   "metadata": {},
   "outputs": [
    {
     "data": {
      "text/plain": [
       "P62993    0.044791\n",
       "P62805    0.036514\n",
       "P12931    0.036027\n",
       "Q07889    0.034567\n",
       "P27986    0.034323\n",
       "P42336    0.032863\n",
       "Q06124    0.029211\n",
       "P63279    0.029211\n",
       "P29353    0.028481\n",
       "P63165    0.026534\n",
       "dtype: float64"
      ]
     },
     "execution_count": 24,
     "metadata": {},
     "output_type": "execute_result"
    }
   ],
   "source": [
    "degree_centrality = nx.centrality.degree_centrality(giant_comp)\n",
    "pd.Series(degree_centrality).sort_values(ascending=False).head(10)"
   ]
  },
  {
   "cell_type": "code",
   "execution_count": 28,
   "id": "846e2f68-cf86-4df5-8677-dc043d01c1d9",
   "metadata": {},
   "outputs": [
    {
     "data": {
      "text/plain": [
       "P62993    184\n",
       "P62805    150\n",
       "P12931    148\n",
       "Q07889    142\n",
       "P27986    141\n",
       "P42336    135\n",
       "Q06124    120\n",
       "P63279    120\n",
       "P29353    117\n",
       "P63165    109\n",
       "dtype: int64"
      ]
     },
     "execution_count": 28,
     "metadata": {},
     "output_type": "execute_result"
    }
   ],
   "source": [
    "degree_dict = dict(nx.degree(giant_comp))\n",
    "pd.Series(degree_dict).sort_values(ascending=False).head(10)"
   ]
  },
  {
   "cell_type": "code",
   "execution_count": 26,
   "id": "7bfdbf90-51c6-4564-b3f4-0d097b31c0c9",
   "metadata": {},
   "outputs": [
    {
     "data": {
      "text/plain": [
       "P62805    0.052600\n",
       "P12931    0.049405\n",
       "P03372    0.049404\n",
       "Q09472    0.037075\n",
       "P07900    0.037000\n",
       "P63279    0.036803\n",
       "P0DP23    0.035652\n",
       "P62877    0.035496\n",
       "P35222    0.035236\n",
       "P04637    0.033808\n",
       "dtype: float64"
      ]
     },
     "execution_count": 26,
     "metadata": {},
     "output_type": "execute_result"
    }
   ],
   "source": [
    "# betweenness_centrality = nx.centrality.betweenness_centrality(giant_comp)\n",
    "pd.Series(betweenness_centrality).sort_values(ascending=False).head(10)"
   ]
  },
  {
   "cell_type": "code",
   "execution_count": 29,
   "id": "3dbfdc78-9752-4583-a1fc-4733af046853",
   "metadata": {},
   "outputs": [
    {
     "data": {
      "text/plain": [
       "P12931    0.306179\n",
       "P07900    0.304567\n",
       "P27986    0.303263\n",
       "P29353    0.302392\n",
       "P42336    0.302037\n",
       "P62993    0.296671\n",
       "P03372    0.295348\n",
       "P28482    0.293869\n",
       "Q09472    0.292739\n",
       "Q07889    0.291244\n",
       "dtype: float64"
      ]
     },
     "execution_count": 29,
     "metadata": {},
     "output_type": "execute_result"
    }
   ],
   "source": [
    "closeness_centrality = nx.centrality.closeness_centrality(giant_comp)\n",
    "pd.Series(closeness_centrality).sort_values(ascending=False).head(10)"
   ]
  }
 ],
 "metadata": {
  "kernelspec": {
   "display_name": "Python 3 (ipykernel)",
   "language": "python",
   "name": "python3"
  },
  "language_info": {
   "codemirror_mode": {
    "name": "ipython",
    "version": 3
   },
   "file_extension": ".py",
   "mimetype": "text/x-python",
   "name": "python",
   "nbconvert_exporter": "python",
   "pygments_lexer": "ipython3",
   "version": "3.10.12"
  }
 },
 "nbformat": 4,
 "nbformat_minor": 5
}
