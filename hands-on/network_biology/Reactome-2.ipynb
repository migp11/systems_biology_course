{
 "cells": [
  {
   "cell_type": "code",
   "execution_count": 2,
   "id": "c172c1bd-d19b-4659-91ec-12d8ae34a07f",
   "metadata": {},
   "outputs": [],
   "source": [
    "import networkx as nx\n",
    "import pandas as pd\n",
    "from collections import Counter"
   ]
  },
  {
   "cell_type": "code",
   "execution_count": 1,
   "id": "175bbd5c-6ebe-4321-9866-ea3ba80284e8",
   "metadata": {},
   "outputs": [
    {
     "ename": "NameError",
     "evalue": "name 'nx' is not defined",
     "output_type": "error",
     "traceback": [
      "\u001b[0;31m---------------------------------------------------------------------------\u001b[0m",
      "\u001b[0;31mNameError\u001b[0m                                 Traceback (most recent call last)",
      "Cell \u001b[0;32mIn[1], line 1\u001b[0m\n\u001b[0;32m----> 1\u001b[0m G \u001b[38;5;241m=\u001b[39m \u001b[43mnx\u001b[49m\u001b[38;5;241m.\u001b[39mread_graphml( \u001b[38;5;124m\"\u001b[39m\u001b[38;5;124mdata/reactome.homo_sapiens.ppi.giant_comp.graphml\u001b[39m\u001b[38;5;124m\"\u001b[39m)\n",
      "\u001b[0;31mNameError\u001b[0m: name 'nx' is not defined"
     ]
    }
   ],
   "source": [
    "G = nx.read_graphml( \"data/reactome.homo_sapiens.ppi.giant_comp.graphml\")"
   ]
  },
  {
   "cell_type": "code",
   "execution_count": 7,
   "id": "35ba3ca2-fd2a-4395-8042-71c57945c211",
   "metadata": {},
   "outputs": [
    {
     "name": "stdout",
     "output_type": "stream",
     "text": [
      "Distribution size for connected components:\n",
      "6493        1\n",
      "16          1\n",
      "14          1\n",
      "8           2\n",
      "7          10\n",
      "6           8\n",
      "5          11\n",
      "4          33\n",
      "3          98\n",
      "2         415\n",
      "1       14347\n",
      "Name: size, dtype: int64\n",
      "\n",
      "Size of the giagant component: nodes=6493, interactions/edges=12489\n"
     ]
    }
   ],
   "source": []
  },
  {
   "cell_type": "code",
   "execution_count": 21,
   "id": "65a1d914-e43e-4587-ac9b-cb638eab8003",
   "metadata": {},
   "outputs": [],
   "source": [
    "# betweenness = nx.centrality.betweenness_centrality(giant_comp)\n",
    "degree_centrality = nx.centrality.degree_centrality(giant_comp)\n",
    "# nx.centrality.closeness_centrality?"
   ]
  },
  {
   "cell_type": "code",
   "execution_count": 33,
   "id": "daf9fe5f-1d34-4078-8a7c-38610c76620d",
   "metadata": {},
   "outputs": [
    {
     "data": {
      "text/plain": [
       "ChEBI:30616         724\n",
       "ChEBI:37565         273\n",
       "ChEBI:29108         172\n",
       "ChEBI:29105         165\n",
       "ChEBI:58189         149\n",
       "ChEBI:18420         121\n",
       "uniprotkb:P04637    111\n",
       "ChEBI:29033          86\n",
       "uniprotkb:P62993     75\n",
       "ChEBI:59789          72\n",
       "uniprotkb:P62805     72\n",
       "uniprotkb:P12931     66\n",
       "uniprotkb:O60674     60\n",
       "uniprotkb:P63279     57\n",
       "uniprotkb:O75030     56\n",
       "uniprotkb:Q9UKV8     55\n",
       "uniprotkb:Q13951     54\n",
       "ChEBI:57692          53\n",
       "uniprotkb:P29353     53\n",
       "uniprotkb:Q07889     53\n",
       "dtype: int64"
      ]
     },
     "execution_count": 33,
     "metadata": {},
     "output_type": "execute_result"
    }
   ],
   "source": [
    "# degree_centrality\n",
    "degree_dict = dict(nx.degree(giant_comp))\n",
    "pd.Series(degree_dict).sort_values(ascending=False).head(20)"
   ]
  },
  {
   "cell_type": "code",
   "execution_count": null,
   "id": "5646d08d-5839-4ec0-9504-2b759a609bc0",
   "metadata": {},
   "outputs": [],
   "source": [
    "# degree_centrality\n",
    "degree_dict = dict(nx.degree(giant_comp))\n",
    "pd.Series(degree_dict).sort_values(ascending=False).head(20)"
   ]
  }
 ],
 "metadata": {
  "kernelspec": {
   "display_name": "Python 3 (ipykernel)",
   "language": "python",
   "name": "python3"
  },
  "language_info": {
   "codemirror_mode": {
    "name": "ipython",
    "version": 3
   },
   "file_extension": ".py",
   "mimetype": "text/x-python",
   "name": "python",
   "nbconvert_exporter": "python",
   "pygments_lexer": "ipython3",
   "version": "3.10.12"
  }
 },
 "nbformat": 4,
 "nbformat_minor": 5
}
