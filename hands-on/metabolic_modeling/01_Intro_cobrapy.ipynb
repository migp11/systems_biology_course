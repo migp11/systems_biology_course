{
 "cells": [
  {
   "cell_type": "markdown",
   "metadata": {},
   "source": [
    "#  Introductions to constrainat-based modeling using cobrapy\n",
    "\n",
    "## Part 1: Basic Model Manipulations\n",
    "\n",
    "### Instructor:\n",
    "* Miguel Ponce de León from (Barcelona Supercomputing Center)\n",
    "* Contact: miguel.ponce@bsc.es\n",
    "\n",
    "11 December, 2020"
   ]
  },
  {
   "cell_type": "markdown",
   "metadata": {},
   "source": [
    "### Objective: \n",
    "\n",
    "To get familiar with COBRA library by creating a toy model from Kauffman et al (figure 1) and manipulating it.\n",
    "\n",
    "![title](img/toy_model.png)\n",
    "\n",
    "Figure 1. Toy model with three metabolites (A, B y C), four reactions\n",
    "(v1-v4) and three exchange fluxes (b1-b3). a) Model chart; b) Stoichiometric matrix\n",
    "\n",
    "### Let's create the model of figure to understand basic cobra objects"
   ]
  },
  {
   "cell_type": "code",
   "execution_count": 1,
   "metadata": {
    "ExecuteTime": {
     "end_time": "2022-11-23T11:46:25.005475Z",
     "start_time": "2022-11-23T11:46:12.257090Z"
    }
   },
   "outputs": [],
   "source": [
    "# Importing the required classes from core package\n",
    "import cobra\n",
    "\n",
    "from cobra.core import Model\n",
    "from cobra.core import Reaction\n",
    "from cobra.core import Metabolite"
   ]
  },
  {
   "cell_type": "code",
   "execution_count": 2,
   "metadata": {
    "ExecuteTime": {
     "end_time": "2022-11-23T11:52:56.630625Z",
     "start_time": "2022-11-23T11:52:56.596823Z"
    }
   },
   "outputs": [
    {
     "name": "stdout",
     "output_type": "stream",
     "text": [
      "We have created a model with ID: Toymodel\n",
      "List of model metabolites: []\n",
      "List of model reactions: []\n",
      "List of model genes: []\n"
     ]
    }
   ],
   "source": [
    "# Creating the model with id Toymodel\n",
    "toy_model = Model('Toymodel')\n",
    "toy_model.description = 'Just a toy model'\n",
    "print(\"We have created a model with ID:\", toy_model)\n",
    "print(\"List of model metabolites:\", toy_model.metabolites)\n",
    "print(\"List of model reactions:\", toy_model.reactions)\n",
    "print(\"List of model genes:\", toy_model.genes)\n"
   ]
  },
  {
   "cell_type": "code",
   "execution_count": 3,
   "metadata": {},
   "outputs": [],
   "source": [
    "# Creating two metabolites and set them a comparment\n",
    "A = Metabolite(\"A\", name=\"I'm A\", formula=\"CH4\")\n",
    "A.compartment = 'cytosol'\n",
    "B = Metabolite(\"B\", name=\"I'm B\", formula=\"H2O\")\n",
    "B.compartment = 'cytosol'"
   ]
  },
  {
   "cell_type": "code",
   "execution_count": 4,
   "metadata": {},
   "outputs": [],
   "source": [
    "######################\n",
    "# Create Metabolite C\n",
    "######################\n",
    "C = Metabolite(\"C\", name=\"I'm C\", formula=\"CO2\")\n",
    "C.compartment = 'cytosol'\n",
    "## TODO\n",
    "## Write your code below"
   ]
  },
  {
   "cell_type": "code",
   "execution_count": 5,
   "metadata": {},
   "outputs": [
    {
     "name": "stdout",
     "output_type": "stream",
     "text": [
      "List of model metabolites:\n",
      "[<Metabolite A at 0x7868e35817e0>, <Metabolite B at 0x78693c1c73a0>, <Metabolite C at 0x7868e3581630>]\n"
     ]
    }
   ],
   "source": [
    "## Add the metabolites to the model\n",
    "toy_model.add_metabolites([A, B, C])\n",
    "print(\"List of model metabolites:\")\n",
    "print(toy_model.metabolites)"
   ]
  },
  {
   "cell_type": "code",
   "execution_count": 6,
   "metadata": {},
   "outputs": [
    {
     "name": "stdout",
     "output_type": "stream",
     "text": [
      "I'm A\n",
      "frozenset()\n"
     ]
    }
   ],
   "source": [
    "# We can access metabolties from the model\n",
    "A = toy_model.metabolites.A\n",
    "# This is the safer way to access metabolties\n",
    "A = toy_model.metabolites.get_by_id(\"A\")\n",
    "# Print the reactions of a given metabolite\n",
    "print(A.name)\n",
    "# Print the reactions of a given metabolite\n",
    "print(A.reactions)\n",
    "# We get an empty set because we haven't created any reaction yet"
   ]
  },
  {
   "cell_type": "code",
   "execution_count": 7,
   "metadata": {},
   "outputs": [],
   "source": [
    "# Creating the reactions b1, b2 ... v3\n",
    "\n",
    "# Create reaction with id b1\n",
    "b1 = Reaction(\"b1\")\n",
    "\n",
    "# To add metabolites to the reactions we need to pass\n",
    "# a dictionary with metabolites as keys\n",
    "# and the stoichiometric coefficients as values\n",
    "b1.add_metabolites({A: 1})\n",
    "b1.lower_bound = 0\n",
    "b1.upper_bound = 10\n",
    "\n",
    "# The same is done for the other reactions\n",
    "b2 = Reaction(\"b2\")\n",
    "# Metabolites are added to the reaction by passing a dictionary:\n",
    "# {metabolite_1: stoich_coef_1, ... , metabolite_n: stoich_coef_n}\n",
    "b2.add_metabolites({B: -1})\n",
    "b2.lower_bound = 0\n",
    "b2.upper_bound = 10\n",
    "\n",
    "\n",
    "b3 = Reaction(\"b3\")\n",
    "b3.add_metabolites({C: -1})\n",
    "# instead of seting bounds as b3.lower_bound = 0 / b3.upper_bound = 10\n",
    "# you can also set bounds as a tuple\n",
    "b3.bounds = (0, 10)\n",
    "\n",
    "v1 = Reaction(\"v1\")\n",
    "v1.add_metabolites({A:-1, B:1})\n",
    "v1.gene_reaction_rule = \"G1\"\n",
    "v1.bounds = (0, 10)\n",
    "\n",
    "v2 = Reaction(\"v2\")\n",
    "v2.add_metabolites({A:-1, C:1})\n",
    "v2.gene_reaction_rule = \"G1 and G2\"\n",
    "v2.bounds = (0, 10)\n",
    "\n",
    "v3 = Reaction(\"v3\")\n",
    "v3.add_metabolites({A:1, C:-1})\n",
    "v3.gene_reaction_rule = \"G3 or G4\"\n",
    "v3.bounds = (0, 10)"
   ]
  },
  {
   "cell_type": "code",
   "execution_count": 8,
   "metadata": {},
   "outputs": [],
   "source": [
    "########################\n",
    "# Create reactions v4\n",
    "########################\n",
    "\n",
    "v4 = Reaction(\"v4\")\n",
    "v4.add_metabolites({B:1, C:-1})\n",
    "v4.gene_reaction_rule = \"G3\"\n",
    "v4.bounds = (0, 10)\n",
    "\n",
    "## TODO\n",
    "## Write your code below\n",
    "# Set the gene_reaction_rule as \"G3\""
   ]
  },
  {
   "cell_type": "code",
   "execution_count": 9,
   "metadata": {},
   "outputs": [],
   "source": [
    "# Adding the reactions to the toy model\n",
    "\n",
    "toy_model.add_reactions([b1,b2,b3,v1,v2,v3,v4])"
   ]
  },
  {
   "cell_type": "code",
   "execution_count": 10,
   "metadata": {},
   "outputs": [
    {
     "name": "stdout",
     "output_type": "stream",
     "text": [
      "We have created a model with ID: Toymodel\n",
      "List of model metabolites:\n",
      " - A\n",
      " - B\n",
      " - C\n",
      "List of model reactions:\n",
      " - b1\n",
      "     GPR: \n",
      "     reaction:  --> A\n",
      "     Bounds:  (0, 10)\n",
      "     Is reversible:  False\n",
      "     Objective coefficient:  0.0\n",
      " - b2\n",
      "     GPR: \n",
      "     reaction: B --> \n",
      "     Bounds:  (0, 10)\n",
      "     Is reversible:  False\n",
      "     Objective coefficient:  0.0\n",
      " - b3\n",
      "     GPR: \n",
      "     reaction: C --> \n",
      "     Bounds:  (0, 10)\n",
      "     Is reversible:  False\n",
      "     Objective coefficient:  0.0\n",
      " - v1\n",
      "     GPR: G1\n",
      "     reaction: A --> B\n",
      "     Bounds:  (0, 10)\n",
      "     Is reversible:  False\n",
      "     Objective coefficient:  0.0\n",
      " - v2\n",
      "     GPR: G1 and G2\n",
      "     reaction: A --> C\n",
      "     Bounds:  (0, 10)\n",
      "     Is reversible:  False\n",
      "     Objective coefficient:  0.0\n",
      " - v3\n",
      "     GPR: G3 or G4\n",
      "     reaction: C --> A\n",
      "     Bounds:  (0, 10)\n",
      "     Is reversible:  False\n",
      "     Objective coefficient:  0.0\n",
      " - v4\n",
      "     GPR: G3\n",
      "     reaction: C --> B\n",
      "     Bounds:  (0, 10)\n",
      "     Is reversible:  False\n",
      "     Objective coefficient:  0.0\n",
      "List of model genes:\n",
      " - G1 ['v1', 'v2']\n",
      " - G2 ['v2']\n",
      " - G4 ['v3']\n",
      " - G3 ['v4', 'v3']\n"
     ]
    }
   ],
   "source": [
    "print(\"We have created a model with ID:\", toy_model)\n",
    "\n",
    "print(\"List of model metabolites:\")\n",
    "for m in toy_model.metabolites:\n",
    "    print(\" - \" + m.id)\n",
    "\n",
    "print(\"List of model reactions:\")\n",
    "for r in toy_model.reactions:\n",
    "    print(\" - \" + r.id)\n",
    "    print(\"     GPR:\", r.gene_reaction_rule)\n",
    "    print(\"     reaction:\", r.reaction)\n",
    "    print(\"     Bounds: \", r.bounds)\n",
    "    print(\"     Is reversible: \", r.reversibility)\n",
    "    print(\"     Objective coefficient: \", r.objective_coefficient)\n",
    "\n",
    "print(\"List of model genes:\")\n",
    "for g in toy_model.genes:\n",
    "    print(\" - \" + g.id, [r.id for r in g.reactions])"
   ]
  },
  {
   "cell_type": "code",
   "execution_count": 11,
   "metadata": {},
   "outputs": [
    {
     "name": "stderr",
     "output_type": "stream",
     "text": [
      "Non-linear or non-reaction model objective. Falling back to minimal display.\n"
     ]
    },
    {
     "name": "stdout",
     "output_type": "stream",
     "text": [
      "A b1 1\n",
      "A b2 0\n",
      "A b3 0\n",
      "A v1 -1\n",
      "A v2 -1\n",
      "A v3 1\n",
      "A v4 0\n",
      "=====================================\n",
      "1 0 0 -1 -1 1 0 \n",
      "0 -1 0 1 0 0 1 \n",
      "0 0 -1 0 1 -1 -1 \n",
      "=====================================\n"
     ]
    },
    {
     "data": {
      "text/html": [
       "<h3>Objective</h3><p>nan Expression = nan</p><h4>Uptake</h4><table border=\"1\" class=\"dataframe\">\n",
       "  <thead>\n",
       "    <tr style=\"text-align: right;\">\n",
       "      <th>Metabolite</th>\n",
       "      <th>Reaction</th>\n",
       "      <th>Flux</th>\n",
       "      <th>C-Number</th>\n",
       "      <th>C-Flux</th>\n",
       "    </tr>\n",
       "  </thead>\n",
       "  <tbody>\n",
       "  </tbody>\n",
       "</table><h4>Secretion</h4><table border=\"1\" class=\"dataframe\">\n",
       "  <thead>\n",
       "    <tr style=\"text-align: right;\">\n",
       "      <th>Metabolite</th>\n",
       "      <th>Reaction</th>\n",
       "      <th>Flux</th>\n",
       "      <th>C-Number</th>\n",
       "      <th>C-Flux</th>\n",
       "    </tr>\n",
       "  </thead>\n",
       "  <tbody>\n",
       "  </tbody>\n",
       "</table>"
      ],
      "text/plain": [
       "<cobra.summary.model_summary.ModelSummary at 0x78693c19a1a0>"
      ]
     },
     "execution_count": 11,
     "metadata": {},
     "output_type": "execute_result"
    }
   ],
   "source": [
    "# print the balance equations of a metabolite\n",
    "\n",
    "A = toy_model.metabolites.A\n",
    "\n",
    "for r in toy_model.reactions:\n",
    "    if A not in r.metabolites:\n",
    "        stoich = 0\n",
    "    else:\n",
    "        stoich = r.get_coefficient(A)\n",
    "    print(A.id, r.id, stoich)\n",
    "\n",
    "\n",
    "################################\n",
    "# print stoichiometirc matrix\n",
    "################################\n",
    "    \n",
    "## TODO    \n",
    "## write \n",
    "from cobra.util.array import create_stoichiometric_matrix\n",
    "\n",
    "create_stoichiometric_matrix(toy_model)\n",
    "print(\"=====================================\")\n",
    "for m in toy_model.metabolites:\n",
    "    for r in toy_model.reactions:\n",
    "        s_ij = 0\n",
    "        if m in r.metabolites:\n",
    "            s_ij = r.get_coefficient(m)\n",
    "\n",
    "            \n",
    "        print(s_ij, end=\" \")\n",
    "    print()\n",
    "print(\"=====================================\")\n",
    "\n",
    "toy_model.summary()"
   ]
  },
  {
   "cell_type": "code",
   "execution_count": 13,
   "metadata": {},
   "outputs": [
    {
     "data": {
      "text/html": [
       "<div>\n",
       "<style scoped>\n",
       "    .dataframe tbody tr th:only-of-type {\n",
       "        vertical-align: middle;\n",
       "    }\n",
       "\n",
       "    .dataframe tbody tr th {\n",
       "        vertical-align: top;\n",
       "    }\n",
       "\n",
       "    .dataframe thead th {\n",
       "        text-align: right;\n",
       "    }\n",
       "</style>\n",
       "<table border=\"1\" class=\"dataframe\">\n",
       "  <thead>\n",
       "    <tr style=\"text-align: right;\">\n",
       "      <th></th>\n",
       "      <th>fluxes</th>\n",
       "      <th>reduced_costs</th>\n",
       "    </tr>\n",
       "  </thead>\n",
       "  <tbody>\n",
       "    <tr>\n",
       "      <th>b1</th>\n",
       "      <td>10.0</td>\n",
       "      <td>0.0</td>\n",
       "    </tr>\n",
       "    <tr>\n",
       "      <th>b2</th>\n",
       "      <td>11.0</td>\n",
       "      <td>0.0</td>\n",
       "    </tr>\n",
       "    <tr>\n",
       "      <th>b3</th>\n",
       "      <td>-1.0</td>\n",
       "      <td>-2.0</td>\n",
       "    </tr>\n",
       "    <tr>\n",
       "      <th>v1</th>\n",
       "      <td>0.0</td>\n",
       "      <td>0.0</td>\n",
       "    </tr>\n",
       "    <tr>\n",
       "      <th>v2</th>\n",
       "      <td>10.0</td>\n",
       "      <td>2.0</td>\n",
       "    </tr>\n",
       "    <tr>\n",
       "      <th>v3</th>\n",
       "      <td>0.0</td>\n",
       "      <td>-2.0</td>\n",
       "    </tr>\n",
       "    <tr>\n",
       "      <th>v4</th>\n",
       "      <td>11.0</td>\n",
       "      <td>0.0</td>\n",
       "    </tr>\n",
       "  </tbody>\n",
       "</table>\n",
       "</div>"
      ],
      "text/plain": [
       "    fluxes  reduced_costs\n",
       "b1    10.0            0.0\n",
       "b2    11.0            0.0\n",
       "b3    -1.0           -2.0\n",
       "v1     0.0            0.0\n",
       "v2    10.0            2.0\n",
       "v3     0.0           -2.0\n",
       "v4    11.0            0.0"
      ]
     },
     "execution_count": 13,
     "metadata": {},
     "output_type": "execute_result"
    }
   ],
   "source": [
    "toy_model.reactions.b1.upper_bound = 10\n",
    "toy_model.reactions.b2.upper_bound = 100\n",
    "toy_model.reactions.b3.bounds = (-1, 10)\n",
    "toy_model.reactions.v4.upper_bound = 100\n",
    "toy_model.reactions.v4.objective_coefficient = 1\n",
    "solution = toy_model.optimize()\n",
    "\n",
    "solution.to_frame()"
   ]
  }
 ],
 "metadata": {
  "kernelspec": {
   "display_name": "Python 3 (ipykernel)",
   "language": "python",
   "name": "python3"
  },
  "language_info": {
   "codemirror_mode": {
    "name": "ipython",
    "version": 3
   },
   "file_extension": ".py",
   "mimetype": "text/x-python",
   "name": "python",
   "nbconvert_exporter": "python",
   "pygments_lexer": "ipython3",
   "version": "3.10.12"
  }
 },
 "nbformat": 4,
 "nbformat_minor": 4
}
